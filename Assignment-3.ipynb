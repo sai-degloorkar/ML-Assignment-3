{
 "cells": [
  {
   "cell_type": "markdown",
   "metadata": {},
   "source": [
    "### Task 1:<br>\n",
    "#### 1.\n",
    "Write a function to compute 5/0 and use try/except to catch the exceptions.\n",
    "        "
   ]
  },
  {
   "cell_type": "code",
   "execution_count": null,
   "metadata": {},
   "outputs": [],
   "source": [
    "def divideByZero():\n",
    "    try:\n",
    "        a = 5/0\n",
    "    except ZeroDivisionError:\n",
    "        print(\"Divide by Zero Error Occured!\")\n",
    "\n",
    "divideByZero()"
   ]
  },
  {
   "cell_type": "markdown",
   "metadata": {},
   "source": [
    "#### 2.\n",
    "Implement a Python program to generate all sentences where subject is in<br>\n",
    "<b>[\"Americans\",\"Indians\"]</b> and verb is in <b>[\"Play\", \"watch\"]</b> and the object is in <b>[\"Baseball\",\"cricket\"]</b>.<br><br>\n",
    "<b>Hint: Subject,Verb and Object should be declared in the program as shown below.</b><br>\n",
    "subjects=[\"Americans \",\"Indians\"]<br>\n",
    "verbs=[\"play\",\"watch\"]<br>\n",
    "objects=[\"Baseball\",\"Cricket\"]<br><br>\n",
    "<b>Output should come as below:</b><br>\n",
    "Americans play Baseball.<br>\n",
    "Americans play Cricket.<br>\n",
    "Americans watch Baseball.<br>\n",
    "Americans watch Cricket.<br>\n",
    "Indians play Baseball.<br>\n",
    "Indians play Cricket.<br>\n",
    "Indians watch Baseball.<br>\n",
    "Indians watch Cricket."
   ]
  },
  {
   "cell_type": "code",
   "execution_count": 15,
   "metadata": {},
   "outputs": [
    {
     "name": "stdout",
     "output_type": "stream",
     "text": [
      "Americans play Baseball\n",
      "Americans play Cricket\n",
      "Americans watch Baseball\n",
      "Americans watch Cricket\n",
      "Indians play Baseball\n",
      "Indians play Cricket\n",
      "Indians watch Baseball\n",
      "Indians watch Cricket\n"
     ]
    }
   ],
   "source": [
    "def reandomFunc():\n",
    "    subjects=[\"Americans\",\"Indians\"]\n",
    "    verbs=[\"play\",\"watch\"]\n",
    "    objects=[\"Baseball\",\"Cricket\"]\n",
    "    \n",
    "    sentenses = [(sub + \" \" + vb + \" \" + ob) for sub in subjects for vb in verbs for ob in objects]\n",
    "    return sentenses\n",
    "    \n",
    "lst = reandomFunc()\n",
    "\n",
    "for i in lst:\n",
    "    print(i)\n"
   ]
  },
  {
   "cell_type": "markdown",
   "metadata": {},
   "source": [
    "### Task 2:<br>\n",
    "#### 1.\n",
    "Write a function so that the columns of the output matrix are powers of the input vector.<br>\n",
    "The order of the powers is determined by the increasing boolean argument. Specifically, when\n",
    "increasing is False, the i-th output column is the input vector raised element-wise to the power\n",
    "of N - i - 1.<br><br>\n",
    "<b>HINT: Such a matrix with a geometric progression in each row is named for Alexandre-Theophile Vandermonde.</b>"
   ]
  },
  {
   "cell_type": "code",
   "execution_count": 136,
   "metadata": {},
   "outputs": [
    {
     "name": "stdout",
     "output_type": "stream",
     "text": [
      "[[  1   1   1   1]\n",
      " [  8   4   2   1]\n",
      " [ 27   9   3   1]\n",
      " [ 64  16   4   1]\n",
      " [125  25   5   1]]\n"
     ]
    }
   ],
   "source": [
    "import numpy as np\n",
    "\n",
    "def newVander(inp, n, increase):\n",
    "    arr = np.array(inp)\n",
    "    \n",
    "    if(increase == False):\n",
    "        tmpArr = np.asarray([arr**(n-1-i) for i in range(n)])\n",
    "    else:\n",
    "        tmpArr = np.asarray([arr**(n-1-i) for i in range(n,0,-1)])\n",
    "        \n",
    "    tmpArr = np.column_stack(tmpArr)\n",
    "    \n",
    "    finalArr = np.zeros((len(arr), n),dtype=int)\n",
    "    \n",
    "    for i in range(tmpArr.shape[0]):\n",
    "        for j in range(tmpArr.shape[1]):\n",
    "            finalArr[i,j] = tmpArr[i,j]\n",
    "    \n",
    "    return finalArr\n",
    "    \n",
    "    \n",
    "    \n",
    "inp=[1,2,3,4,5]\n",
    "n=4\n",
    "increase=False\n",
    "\n",
    "vanArr = newVander(inp,n,increase)\n",
    "print(vanArr)\n",
    "\n",
    "\n",
    "\n",
    "    "
   ]
  }
 ],
 "metadata": {
  "kernelspec": {
   "display_name": "Python 3",
   "language": "python",
   "name": "python3"
  },
  "language_info": {
   "codemirror_mode": {
    "name": "ipython",
    "version": 3
   },
   "file_extension": ".py",
   "mimetype": "text/x-python",
   "name": "python",
   "nbconvert_exporter": "python",
   "pygments_lexer": "ipython3",
   "version": "3.6.5"
  }
 },
 "nbformat": 4,
 "nbformat_minor": 2
}
